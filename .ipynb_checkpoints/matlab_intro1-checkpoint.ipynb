{
 "cells": [
  {
   "cell_type": "markdown",
   "metadata": {
    "slideshow": {
     "slide_type": "slide"
    }
   },
   "source": [
    "# Matlab for human movement analysis\n",
    " \n",
    "## Introduction to MATLAB\n",
    "\n",
    "## Vivek Yadav\n",
    "\n"
   ]
  },
  {
   "cell_type": "markdown",
   "metadata": {
    "slideshow": {
     "slide_type": "slide"
    }
   },
   "source": [
    "## Representative applications \n",
    "\n",
    "|Walker|Foot rollover|\n",
    "|--|--|\n",
    "| <img src=\"images/walker.gif\",width=400, height=400)>|<img src=\"images/foot_model.gif\",width=400, height=400)>|\n",
    "\n",
    "\n",
    "\n"
   ]
  },
  {
   "cell_type": "markdown",
   "metadata": {
    "slideshow": {
     "slide_type": "subslide"
    }
   },
   "source": [
    "## Representative applications \n",
    "\n",
    "|Biped model|perrault ballet|\n",
    "|--|--|\n",
    "| <img src=\"images/biped_model.gif\",width=400, height=400)>|<img src=\"images/ballet.gif\",width=400, height=400)>|\n",
    "\n",
    "\n"
   ]
  },
  {
   "cell_type": "markdown",
   "metadata": {
    "slideshow": {
     "slide_type": "subslide"
    }
   },
   "source": [
    "#### User only specifies the model, MATLAB does the rest. \n",
    "\n",
    "<img src=\"images/model_full_pic.JPG\",width=400, height=400)>"
   ]
  },
  {
   "cell_type": "markdown",
   "metadata": {
    "slideshow": {
     "slide_type": "slide"
    }
   },
   "source": [
    "### MATLAB\n",
    "\n",
    "- MATLAB stands for MATrix LABoratory, and is a programming environment for scientific computing. \n",
    "- MATLAB supports various data types\n",
    "    - Strings\n",
    "    - Scalars\n",
    "    - Vectors\n",
    "    - Matrices\n",
    "    - Struct\n",
    "    - Symbolic variables \n",
    "- MATLAB can also be used to record data from and control devices in real time. \n",
    "- MATLAB provides file I/O capabilities which will be used to read and write data in files. "
   ]
  },
  {
   "cell_type": "markdown",
   "metadata": {
    "slideshow": {
     "slide_type": "slide"
    }
   },
   "source": [
    "### MATLAB Kernel \n",
    "\n",
    "Start MATLAB\n",
    "\n",
    "<img src=\"images/pane_label.png\",width=400, height=400)>\n",
    "\n",
    "\n",
    "Taken from, http://spiff.rit.edu/classes/phys559/lectures/matlab/matlab.html\n"
   ]
  },
  {
   "cell_type": "markdown",
   "metadata": {
    "slideshow": {
     "slide_type": "subslide"
    }
   },
   "source": [
    "### MATLAB editors\n",
    "\n",
    "## Two editors in MATLAB\n",
    "\n",
    "|Classic editor |Live editor (2016a onwards)|\n",
    "|--|--|\n",
    "| <img src=\"images/editor_window.png\",width=400, height=400)>|<img src=\"images/matlab_live_editor.jpg\",width=400, height=400)>|\n",
    "\n"
   ]
  },
  {
   "cell_type": "markdown",
   "metadata": {
    "collapsed": true,
    "slideshow": {
     "slide_type": "subslide"
    }
   },
   "source": [
    "### Live editor \n",
    "\n",
    "- Live editor is analogous to python's notebook or R's RMarkdown. It allows to write code, document your findings, include, equations, images, hyperlinks, and much more to your code.\n",
    "- The document then can be saved as live editor format (.mlx) or can be saved as html or pdf for sharing.  \n",
    "\n",
    "[Link to simple live-editor example](https://github.com/mec560sbu/HAX635_docs/blob/master/matlab_live_editor.mlx)"
   ]
  },
  {
   "cell_type": "code",
   "execution_count": 3,
   "metadata": {
    "collapsed": false,
    "slideshow": {
     "slide_type": "slide"
    }
   },
   "outputs": [
    {
     "data": {
      "image/png": "[encoded data removed]",
      "text/plain": [
       "<IPython.core.display.Image object>"
      ]
     },
     "metadata": {},
     "output_type": "display_data"
    }
   ],
   "source": [
    "%% First MATLAB script\n",
    "% Comments are included using %-sign\n",
    "clc   % clears command window\n",
    "close all % Closes all the open graphs \n",
    "clear all % Clears all data\n",
    "\n",
    "% x goes from -pi to pi in steps of 0.01\n",
    "x = -pi:0.01:pi; \n",
    "\n",
    "% plot x = sin(x)\n",
    "figure;\n",
    "plot(x,sin(x))\n",
    "axis([-pi,pi,-1.2,1.2])\n",
    "xlabel('x')\n",
    "ylabel('sin(x)')"
   ]
  },
  {
   "cell_type": "markdown",
   "metadata": {
    "slideshow": {
     "slide_type": "slide"
    }
   },
   "source": [
    "### Pythonic way to access MATLAB\n",
    "\n",
    "ipython notebooks provide markdown support. This enables us to write equations, take notes, run multiple programs from different programming languages (R,Octave,MATLAB), make presentations all in one document.\n",
    "\n",
    "<img src=\"images/ipython_matlab_kernel.png\",width=200, height=300)>\n",
    "\n",
    "\n",
    "\n",
    "PS: This document was written in ipython notebook running MATLAB code and uses reveal.js for converting them to web-hosted html5 presentation. \n",
    "https://anneurai.net/2015/11/12/matlab-based-ipython-notebooks/\n"
   ]
  },
  {
   "cell_type": "markdown",
   "metadata": {
    "slideshow": {
     "slide_type": "subslide"
    }
   },
   "source": [
    "### Side note: Python\n",
    "\n",
    "Python is a very powerful opensource software for scientific computing. Below are key differences and advantage/disadvantage of each\n",
    "- Differences \n",
    "    - In python functionality is added by importing appropriate libraries. MATLAB has prebuilt functions\n",
    "    - Python is free to get and codes are easy to share, MATLAB is licensed and quite expensive.\n",
    "    - Python algorithms are opensource so you can read the source code, MATLAB algroithms are proprietary.\n",
    "    - In MATLAB Indexing is done with braces rather than brackets, making it difficult to distinguish it from a function call.\n",
    "    - Python is much faster than MATLAB, however achieving optimum performance requires significant amount of coding effort\n",
    "    - Python uses static scoping of variables and MATLAB uses dynamic scoping. \n",
    "\n",
    "\n",
    "\n",
    "http://www.pyzo.org/python_vs_matlab.html"
   ]
  },
  {
   "cell_type": "markdown",
   "metadata": {
    "slideshow": {
     "slide_type": "subslide"
    }
   },
   "source": [
    "### Advantages of Matlab\n",
    "\n",
    "- Large collection of of functions.\n",
    "- Simulink offers graphical interface for modeling, simulating and analyzing multidomain dynamic systems. \n",
    "- Its easier to use if you are new to programming. \n",
    "- Due to dynamic scoping each function in a file needs all the variables to be defined, and do not share variables with the main environment. This helps avoid scripts where imporper variable naming can result in erroroneous results. "
   ]
  },
  {
   "cell_type": "markdown",
   "metadata": {
    "slideshow": {
     "slide_type": "slide"
    }
   },
   "source": [
    "### Good resources\n",
    "\n",
    "1. Good for posting programming questions, job search, etc. http://biomch-l.isbweb.org/forum.php\n",
    "2. Tools for biomechanics http://www.nismat.org/software/beat/doc/beat.html\n",
    "3. ISB software http://isbweb.org/software/movanal.html\n",
    "4. MATLAB's file exchange.  https://www.mathworks.com/matlabcentral/fileexchange/\n"
   ]
  },
  {
   "cell_type": "markdown",
   "metadata": {
    "slideshow": {
     "slide_type": "slide"
    }
   },
   "source": [
    "### Matlab's file exchange example\n",
    "\n",
    "Find the minima and maximum points in the image below, \n",
    "\n",
    "<img src=\"images/Image_sine.png\",width=200, height=300)>\n",
    "\n"
   ]
  },
  {
   "cell_type": "markdown",
   "metadata": {
    "slideshow": {
     "slide_type": "slide"
    }
   },
   "source": [
    "### Steps\n",
    "1. Go to MATLAB's file exchange and search for peak detection \n",
    "2. Go through uploaded codes and find one you like.\n",
    "3. Download the code (you will need to sign into mathworks)\n",
    "4. Put the code in the same folder as file\n",
    "5. Run the function"
   ]
  },
  {
   "cell_type": "code",
   "execution_count": 4,
   "metadata": {
    "collapsed": false,
    "slideshow": {
     "slide_type": "slide"
    }
   },
   "outputs": [
    {
     "data": {
      "image/png": "[encoded data removed]",
      "text/plain": [
       "<IPython.core.display.Image object>"
      ]
     },
     "metadata": {},
     "output_type": "display_data"
    }
   ],
   "source": [
    "clc\n",
    "close all\n",
    "clear all\n",
    "\n",
    "% x goes from -pi to pi in steps of 0.01\n",
    "x = -pi:0.01:pi; \n",
    "\n",
    "% plot x = sin(x)\n",
    "figure;\n",
    "plot(x,sin(x))\n",
    "axis([-pi,pi,-1.2,1.2])\n",
    "xlabel('x')\n",
    "ylabel('y')"
   ]
  },
  {
   "cell_type": "code",
   "execution_count": 13,
   "metadata": {
    "collapsed": false,
    "slideshow": {
     "slide_type": "subslide"
    }
   },
   "outputs": [
    {
     "data": {
      "image/png": "[encoded data removed]",
      "text/plain": [
       "<IPython.core.display.Image object>"
      ]
     },
     "metadata": {},
     "output_type": "display_data"
    }
   ],
   "source": [
    "clc\n",
    "close all\n",
    "clear all\n",
    "\n",
    "% x goes from -pi to pi in steps of 0.01\n",
    "x = -pi:0.01:pi; \n",
    "\n",
    "% plot x = sin(x)\n",
    "figure;\n",
    "plot(x,sin(x))\n",
    "axis([-pi,pi,-1.2,1.2])\n",
    "xlabel('x')\n",
    "ylabel('sin(x)')\n",
    "\n",
    "[peaks,valleys,p_id,v_id] = peakdet(sin(x), .01);\n",
    "hold on;\n",
    "plot(x(p_id),sin(x(p_id)),'rs')\n",
    "plot(x(v_id),sin(x(v_id)),'ko')"
   ]
  },
  {
   "cell_type": "markdown",
   "metadata": {
    "slideshow": {
     "slide_type": "slide"
    }
   },
   "source": [
    "### To come\n",
    "1. Read and write data in files.\n",
    "2. Filter time-series data.\n",
    "3. Introduction to symbolic package.\n",
    "4. Derivation of equations of motion. \n",
    "5. Forward and inverse kinematics. \n",
    "6. Forward and inverse dynamics. "
   ]
  }
 ],
 "metadata": {
  "celltoolbar": "Slideshow",
  "kernelspec": {
   "display_name": "Matlab",
   "language": "matlab",
   "name": "matlab"
  },
  "language_info": {
   "codemirror_mode": "octave",
   "file_extension": ".m",
   "help_links": [
    {
     "text": "MetaKernel Magics",
     "url": "https://github.com/calysto/metakernel/blob/master/metakernel/magics/README.md"
    }
   ],
   "mimetype": "text/x-octave",
   "name": "matlab",
   "version": "0.10.2"
  }
 },
 "nbformat": 4,
 "nbformat_minor": 0
}
